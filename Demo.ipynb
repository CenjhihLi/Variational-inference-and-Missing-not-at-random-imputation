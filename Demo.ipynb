{
 "cells": [
  {
   "cell_type": "markdown",
   "metadata": {},
   "source": [
    "**<font size = 6>**\n",
    "# This is the `Demo.ipynb` file\n",
    "\n",
    "I will demonstrate how to use my classes and functions."
   ]
  },
  {
   "cell_type": "code",
   "execution_count": 5,
   "metadata": {},
   "outputs": [],
   "source": [
    "import random\n",
    "import torch\n",
    "import numpy as np\n",
    "seed = 1\n",
    "random.seed(seed)\n",
    "np.random.seed(seed)\n",
    "torch.manual_seed(seed)\n",
    "torch.cuda.manual_seed(seed)"
   ]
  },
  {
   "cell_type": "markdown",
   "metadata": {},
   "source": [
    "**<font size = 4>**\n",
    "# The `UCIDatasets` loader in `/utils/dataframe.py `\n",
    "\n",
    "`reference: https://gist.github.com/martinferianc/db7615c85d5a3a71242b4916ea6a14a2`\n",
    "\n",
    "Note that the output `train` or `test` is pytorch.Dataset"
   ]
  },
  {
   "cell_type": "code",
   "execution_count": 6,
   "metadata": {},
   "outputs": [
    {
     "name": "stdout",
     "output_type": "stream",
     "text": [
      "['housing', 'concrete', 'energy', 'power', 'redwine', 'whitewine', 'yacht']\n"
     ]
    }
   ],
   "source": [
    "from utils.dataframe import UCIDatasets, datalist\n",
    "print(datalist)\n",
    "data = UCIDatasets(\"housing\")\n",
    "train = data.get_split( load=\"train\") #pytorch.dataset\n",
    "test = data.get_split( load=\"test\")\n",
    "\n",
    "torch.manual_seed(seed)\n",
    "torch.cuda.manual_seed(seed)\n",
    "train_loader = data.get_dataloader(load = \"train\", batch_size = 16) #pytorch.dataloader"
   ]
  },
  {
   "cell_type": "markdown",
   "metadata": {},
   "source": [
    "**<font size = 4>**\n",
    "# The `imputer` in `model/imputer.py`.\n",
    "\n",
    "I assemble several common methods, some detail can see my code and the documentary of sklearn.impute. \n",
    "\n",
    "I have set up some parameters. change the parameters via `par_setting( par_dict )` function.\n",
    "\n",
    "The input dictionary should be like `__getParvalue__()`"
   ]
  },
  {
   "cell_type": "code",
   "execution_count": 7,
   "metadata": {},
   "outputs": [
    {
     "name": "stdout",
     "output_type": "stream",
     "text": [
      "['mean', 'median', 'most_frequent', 'mice', 'missForest', 'knn']\n",
      "\n",
      "\n",
      "Set up parameters via impObject.par_setting( par_dict ) and retrain the model,     the par_dict should be like the following structure:\n",
      " {'missing_values': nan, 'max_iter': 10, 'random_state': 0, 'n_estimators': 100, 'n_neighbors': 3, 'metric': 'nan_euclidean'} \n",
      "\n",
      "for instance: impObject.par_setting( { 'max_iter': 10 } ) \n",
      "\n",
      "Each par corresponding to method is as the following:\n",
      "where SimpleImputer includes ['mean', 'median', 'most_frequent']\n"
     ]
    }
   ],
   "source": [
    "from model.imputer import imputer, method_list\n",
    "import numpy as np\n",
    "print(method_list)\n",
    "X = np.random.rand(100*20).reshape(100,20)\n",
    "X[51:, 11:] = np.nan\n",
    "\n",
    "impObject = imputer(X, method = 'mice')\n",
    "impObject.train()\n",
    "imp = impObject.imp\n",
    "imp.transform(X).shape \n",
    "print('\\n\\nSet up parameters via impObject.par_setting( par_dict ) and retrain the model, \\\n",
    "    the par_dict should be like the following structure:\\n {} \\n'.format(impObject.__getParvalue__()))\n",
    "print('for instance: impObject.par_setting( { \\'max_iter\\': 10 } ) ')\n",
    "print('\\nEach par corresponding to method is as the following:')\n",
    "impObject.__getParlist__()\n",
    "print('where SimpleImputer includes [\\'mean\\', \\'median\\', \\'most_frequent\\']')\n"
   ]
  },
  {
   "cell_type": "markdown",
   "metadata": {},
   "source": [
    "**<font size = 4>**\n",
    "# This part is for `MIWAE` in `/model/MIWAE.py` and `trainer` in `/utils/trainer.py`.\n",
    "\n",
    "`http://proceedings.mlr.press/v97/mattei19a/mattei19a.pdf (ICML, 2019)`.\n",
    "\n",
    "`MIWAE` is a pytorch model\n",
    "\n",
    "Might use `trainer` to train it.\n",
    "\n",
    "Loss function are like `loss(self, outdic, indic)` in which outdic and indic are input and output\n",
    "\n",
    "For `MIWAE`, \n",
    "\n",
    "`indic = {'x': x , 'm': m }` where `x` is dataset and `m` is missing indicator.\n",
    "\n",
    "`output = {'lpxz': lpxz , 'lqzx': lqzx , 'lpz': lpz }`  means `l`og loss for `p`(`x` | `z`), `q`(`z` | `x`), `p`(`z`)\n",
    "\n",
    "In MIWAE loss `self.MIWAE_ELBO(outdic, indic = None)` the indic is not required.\n"
   ]
  },
  {
   "cell_type": "code",
   "execution_count": 8,
   "metadata": {},
   "outputs": [
    {
     "name": "stdout",
     "output_type": "stream",
     "text": [
      "Es torch.Size([16, 20, 20])\n",
      "Esx torch.Size([16, 20, 21])\n",
      "Esxr torch.Size([320, 21])\n",
      "h torch.Size([320, 20])\n",
      "hr torch.Size([16, 20, 20])\n",
      "hz torch.Size([16, 20, 20])\n",
      "g torch.Size([16, 20])\n",
      "----------------------------------------------------------------\n",
      "        Layer (type)               Output Shape         Param #\n",
      "================================================================\n",
      "            Linear-1                   [-1, 20]             440\n",
      "            Linear-2                  [-1, 100]           2,100\n",
      "              Tanh-3                  [-1, 100]               0\n",
      "            Linear-4                  [-1, 100]          10,100\n",
      "              Tanh-5                  [-1, 100]               0\n",
      "            Linear-6                   [-1, 50]           5,050\n",
      "            Linear-7                   [-1, 50]           5,050\n",
      "            Linear-8               [-1, 5, 100]           5,100\n",
      "            Linear-9               [-1, 5, 100]          10,100\n",
      "           Linear-10                [-1, 5, 20]           2,020\n",
      "           Linear-11                [-1, 5, 20]           2,020\n",
      "================================================================\n",
      "Total params: 41,980\n",
      "Trainable params: 41,980\n",
      "Non-trainable params: 0\n",
      "----------------------------------------------------------------\n",
      "Input size (MB): 0.10\n",
      "Forward/backward pass size (MB): 0.01\n",
      "Params size (MB): 0.16\n",
      "Estimated Total Size (MB): 0.27\n",
      "----------------------------------------------------------------\n"
     ]
    }
   ],
   "source": [
    "from model.MIWAE import MIWAE\n",
    "from utils.trainer import VAEtrainer\n",
    "from utils.dataframe import UCIDatasets, datalist\n",
    "data = UCIDatasets(\"whitewine\")\n",
    "\n",
    "torch.manual_seed(seed)\n",
    "torch.cuda.manual_seed(seed)\n",
    "train_loader = data.get_dataloader(load = \"train\", batch_size = 16) #pytorch.dataloader\n",
    "test_loader = data.get_dataloader(load = \"test\", batch_size = 16) #pytorch.dataloader\n",
    "model = MIWAE(data_dim = 20, n_samples=5, permutation_invariance=True)\n",
    "trainer = VAEtrainer(model = model, train_loader = train_loader, test_loader = test_loader)\n",
    "trainer.model_summary()"
   ]
  }
 ],
 "metadata": {
  "interpreter": {
   "hash": "6db9b13bbeaa7901a248048a8ac684b541578b3064e63ac00ea1c7bbcba68952"
  },
  "kernelspec": {
   "display_name": "Python 3.8.8 64-bit ('pytorch': conda)",
   "name": "python3"
  },
  "language_info": {
   "codemirror_mode": {
    "name": "ipython",
    "version": 3
   },
   "file_extension": ".py",
   "mimetype": "text/x-python",
   "name": "python",
   "nbconvert_exporter": "python",
   "pygments_lexer": "ipython3",
   "version": "3.8.8"
  },
  "orig_nbformat": 4
 },
 "nbformat": 4,
 "nbformat_minor": 2
}
